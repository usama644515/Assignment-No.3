{
 "cells": [
  {
   "cell_type": "code",
   "execution_count": 1,
   "id": "e3c283b7",
   "metadata": {},
   "outputs": [
    {
     "name": "stdout",
     "output_type": "stream",
     "text": [
      "Twinkle, twinkle, little star,\n",
      "\tHow I wonder what you are!\n",
      "\t\tUp above the world so high,\n",
      "\t\tLike a diamond in the sky.\n",
      "Twinkle, twinkle, little star,\n",
      "\tHow I wonder what you are\n"
     ]
    }
   ],
   "source": [
    "print(\"Twinkle, twinkle, little star,\\n\\tHow I wonder what you are!\\n\\t\\tUp above the world so high,\\n\\t\\tLike a diamond in the sky.\\nTwinkle, twinkle, little star,\\n\\tHow I wonder what you are\")"
   ]
  },
  {
   "cell_type": "code",
   "execution_count": 2,
   "id": "70c6eab1",
   "metadata": {},
   "outputs": [
    {
     "name": "stdout",
     "output_type": "stream",
     "text": [
      "3.8.8 (default, Apr 13 2021, 15:08:03) [MSC v.1916 64 bit (AMD64)]\n"
     ]
    }
   ],
   "source": [
    "import sys\n",
    "print(sys.version)"
   ]
  },
  {
   "cell_type": "code",
   "execution_count": 9,
   "id": "bfb785c9",
   "metadata": {},
   "outputs": [
    {
     "name": "stdout",
     "output_type": "stream",
     "text": [
      "Current Data and Time:\n",
      "2021-10-22 22:40:13\n"
     ]
    }
   ],
   "source": [
    "import datetime\n",
    "datetime.datetime.now()\n",
    "print(\"Current Data and Time:\")\n",
    "print (now.strftime(\"%Y-%m-%d %H:%M:%S\"))"
   ]
  },
  {
   "cell_type": "code",
   "execution_count": 10,
   "id": "80d7f6a9",
   "metadata": {},
   "outputs": [
    {
     "name": "stdout",
     "output_type": "stream",
     "text": [
      "Enter the Radius to find the Area of Circle\n",
      "12\n",
      "The Area of Circle = 452.16\n"
     ]
    }
   ],
   "source": [
    "radius=float(input(\"Enter the Radius to find the Area of Circle\\n\"))\n",
    "#-----A=3.14*r*r-------\n",
    "area_of_circle=3.14*radius**2\n",
    "print(\"The Area of Circle =\",area_of_circle)"
   ]
  },
  {
   "cell_type": "code",
   "execution_count": 11,
   "id": "3b760680",
   "metadata": {},
   "outputs": [
    {
     "name": "stdout",
     "output_type": "stream",
     "text": [
      "Enter the First Value\n",
      "4\n",
      "Enter the Second Value\n",
      "2\n",
      "Your Addition = 6\n"
     ]
    }
   ],
   "source": [
    "val1=int(input(\"Enter the First Value\\n\"))\n",
    "val2=int(input(\"Enter the Second Value\\n\"))\n",
    "print(\"Your Addition =\",val1+val2)"
   ]
  },
  {
   "cell_type": "code",
   "execution_count": 2,
   "id": "b4c06f69",
   "metadata": {},
   "outputs": [
    {
     "name": "stdout",
     "output_type": "stream",
     "text": [
      "-----Welcome to the MarkSheet-----\n",
      "Enter Your Maths Marks\n",
      "45\n",
      "Enter Your Computer Marks\n",
      "90\n",
      "Enter Your English Marks\n",
      "80\n",
      "Enter Your Urdu Marks\n",
      "70\n",
      "Enter Your Islamiat Marks\n",
      "80\n",
      "Total Marks = 500 \n",
      "Your Obtain marks = 365\n",
      "Your Percentage is 73.00 %\n",
      "Your Grade is A\n",
      "\n"
     ]
    }
   ],
   "source": [
    "print(\"-----Welcome to the MarkSheet-----\")\n",
    "maths=int(input(\"Enter Your Maths Marks\\n\"))\n",
    "comp=int(input(\"Enter Your Computer Marks\\n\"))\n",
    "english=int(input(\"Enter Your English Marks\\n\"))\n",
    "urdu=int(input(\"Enter Your Urdu Marks\\n\"))\n",
    "isl=int(input(\"Enter Your Islamiat Marks\\n\"))\n",
    "total=500\n",
    "add=maths+comp+english+urdu+isl\n",
    "percent=100\n",
    "percentage=add*percent/total\n",
    "print(\"Total Marks =\",total,\"\\nYour Obtain marks =\",add)\n",
    "print(\"Your Percentage is\",\"%.2f\"%percentage,\"%\")\n",
    "if (percentage<=100 and percentage>=80):\n",
    "    print(\"Your Grade is A+\\n\")\n",
    "elif (percentage<80 and percentage>=70):\n",
    "    print(\"Your Grade is A\\n\")\n",
    "elif (percentage<70 and percentage>=60):\n",
    "    print(\"Your Grade is B\\n\")\n",
    "elif (percentage<60 and percentage>=50):\n",
    "    print(\"Your Grade is C\\n\")\n",
    "elif (percentage<50 and percentage>=33):\n",
    "    print(\"Your Grade is D\\n\")\n",
    "elif (percentage<33 and percentage>=0):\n",
    "    print(\"You Fail\\n\")\n",
    "else:\n",
    "    print(\"Please Enter Valid Percentage\\n\")\n",
    "    "
   ]
  },
  {
   "cell_type": "code",
   "execution_count": 4,
   "id": "23f0d79d",
   "metadata": {},
   "outputs": [
    {
     "name": "stdout",
     "output_type": "stream",
     "text": [
      "Enter the Number\n",
      "11\n",
      "11 is odd number\n"
     ]
    }
   ],
   "source": [
    "num=int(input(\"Enter the Number\\n\"))\n",
    "if(num%2)==0:\n",
    "    print(f\"{num} is even number\")\n",
    "else:\n",
    "    print(f\"{num} is odd number\")"
   ]
  },
  {
   "cell_type": "code",
   "execution_count": 8,
   "id": "9bc04359",
   "metadata": {},
   "outputs": [
    {
     "name": "stdout",
     "output_type": "stream",
     "text": [
      "The length of the list = 8\n"
     ]
    }
   ],
   "source": [
    "lst=[1,5,8,7,5,101,78,404]\n",
    "print(f\"The length of the list = {len(lst)}\")"
   ]
  },
  {
   "cell_type": "code",
   "execution_count": 27,
   "id": "b6c03655",
   "metadata": {},
   "outputs": [
    {
     "name": "stdout",
     "output_type": "stream",
     "text": [
      "8\n"
     ]
    }
   ],
   "source": [
    "l = ['a',1,'f',3,4]\n",
    "a= sum(i for i in l if isinstance(i, int) or isinstance(i, int))\n",
    "print(a)"
   ]
  },
  {
   "cell_type": "code",
   "execution_count": 19,
   "id": "8910fc1e",
   "metadata": {},
   "outputs": [
    {
     "name": "stdout",
     "output_type": "stream",
     "text": [
      "The Greater Number = 501\n"
     ]
    }
   ],
   "source": [
    "lst=[1,20,40,85,100,-101,-1000,78,95,501,2,5]\n",
    "max=lst[0]\n",
    "for i in lst:\n",
    "    if i>max:\n",
    "        max=i\n",
    "print(\"The Greater Number =\",max)"
   ]
  },
  {
   "cell_type": "code",
   "execution_count": 20,
   "id": "474844bc",
   "metadata": {},
   "outputs": [
    {
     "name": "stdout",
     "output_type": "stream",
     "text": [
      "1\n",
      "1\n",
      "2\n",
      "3\n"
     ]
    }
   ],
   "source": [
    "lst=[1,1,2,3,5,8,13,21,34,55,89]\n",
    "for i in lst:\n",
    "    if i<5:\n",
    "        print(i)   "
   ]
  },
  {
   "cell_type": "code",
   "execution_count": null,
   "id": "d661720a",
   "metadata": {},
   "outputs": [],
   "source": []
  }
 ],
 "metadata": {
  "kernelspec": {
   "display_name": "Python 3",
   "language": "python",
   "name": "python3"
  },
  "language_info": {
   "codemirror_mode": {
    "name": "ipython",
    "version": 3
   },
   "file_extension": ".py",
   "mimetype": "text/x-python",
   "name": "python",
   "nbconvert_exporter": "python",
   "pygments_lexer": "ipython3",
   "version": "3.8.8"
  }
 },
 "nbformat": 4,
 "nbformat_minor": 5
}
